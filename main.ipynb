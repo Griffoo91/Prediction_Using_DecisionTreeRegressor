{
 "cells": [
  {
   "cell_type": "code",
   "execution_count": 2,
   "metadata": {},
   "outputs": [
    {
     "name": "stderr",
     "output_type": "stream",
     "text": [
      "/home/blackson/.local/lib/python3.11/site-packages/pandas/core/arrays/masked.py:60: UserWarning: Pandas requires version '1.3.6' or newer of 'bottleneck' (version '1.3.5' currently installed).\n",
      "  from pandas.core import (\n"
     ]
    }
   ],
   "source": [
    "import numpy as np\n",
    "import pandas as pd\n",
    "import matplotlib.pyplot as plt\n"
   ]
  },
  {
   "cell_type": "markdown",
   "metadata": {},
   "source": [
    "# Initialize and print Dataset"
   ]
  },
  {
   "cell_type": "code",
   "execution_count": 4,
   "metadata": {},
   "outputs": [
    {
     "name": "stdout",
     "output_type": "stream",
     "text": [
      "<NumpyExtensionArray>\n",
      "[            ['Asset Flip', 100, 1000],             ['Text Based', 500, 3000],\n",
      "          ['Visual Novel', 1500, 5000],          ['2D Pixel Art', 3500, 8000],\n",
      "         ['2D Vector Art', 5000, 6000],              ['Strategy', 6000, 7000],\n",
      " ['First Person Shooter', 8000, 15000],            ['Simulator', 9500, 20000],\n",
      "              ['Racing', 12000, 21000],                 ['RPG', 14000, 25000],\n",
      "             ['Sandbox', 15500, 27000],          ['Open-World', 16500, 30000],\n",
      "              ['MMOFPS', 25000, 52000],              ['MMORPG', 30000, 80000]]\n",
      "Length: 14, dtype: object\n"
     ]
    }
   ],
   "source": [
    "dataset = pd.array(\n",
    "    [\n",
    "        ['Asset Flip', 100, 1000],\n",
    "        ['Text Based', 500, 3000],\n",
    "        ['Visual Novel', 1500, 5000],\n",
    "        ['2D Pixel Art', 3500, 8000],\n",
    "        ['2D Vector Art', 5000, 6000],\n",
    "        ['Strategy', 6000, 7000],\n",
    "        ['First Person Shooter', 8000, 15000],\n",
    "        ['Simulator', 9500, 20000],\n",
    "        ['Racing', 12000, 21000],\n",
    "        ['RPG', 14000, 25000],\n",
    "        ['Sandbox', 15500, 27000],\n",
    "        ['Open-World', 16500, 30000],\n",
    "        ['MMOFPS', 25000, 52000],\n",
    "        ['MMORPG',30000, 80000]\n",
    "    ]\n",
    "    )\n",
    "\n",
    "print(dataset)"
   ]
  },
  {
   "cell_type": "code",
   "execution_count": 7,
   "metadata": {},
   "outputs": [
    {
     "ename": "IndexError",
     "evalue": "too many indices for array: array is 1-dimensional, but 2 were indexed",
     "output_type": "error",
     "traceback": [
      "\u001b[0;31m---------------------------------------------------------------------------\u001b[0m",
      "\u001b[0;31mIndexError\u001b[0m                                Traceback (most recent call last)",
      "Cell \u001b[0;32mIn[7], line 3\u001b[0m\n\u001b[1;32m      1\u001b[0m \u001b[38;5;66;03m# select all rows by : and column 1\u001b[39;00m\n\u001b[1;32m      2\u001b[0m \u001b[38;5;66;03m# by selecting 1:2 representing features\u001b[39;00m\n\u001b[0;32m----> 3\u001b[0m X \u001b[38;5;241m=\u001b[39m \u001b[43mdataset\u001b[49m\u001b[43m[\u001b[49m\u001b[43m:\u001b[49m\u001b[43m,\u001b[49m\u001b[43m \u001b[49m\u001b[38;5;241;43m1\u001b[39;49m\u001b[43m:\u001b[49m\u001b[38;5;241;43m2\u001b[39;49m\u001b[43m]\u001b[49m\u001b[38;5;241m.\u001b[39mastype(\u001b[38;5;28mint\u001b[39m)\n\u001b[1;32m      4\u001b[0m \u001b[38;5;66;03m# print X\u001b[39;00m\n\u001b[1;32m      5\u001b[0m \u001b[38;5;28mprint\u001b[39m(X)\n",
      "File \u001b[0;32m~/.local/lib/python3.11/site-packages/pandas/core/arrays/_mixins.py:293\u001b[0m, in \u001b[0;36mNDArrayBackedExtensionArray.__getitem__\u001b[0;34m(self, key)\u001b[0m\n\u001b[1;32m    291\u001b[0m key \u001b[38;5;241m=\u001b[39m extract_array(key, extract_numpy\u001b[38;5;241m=\u001b[39m\u001b[38;5;28;01mTrue\u001b[39;00m)  \u001b[38;5;66;03m# type: ignore[assignment]\u001b[39;00m\n\u001b[1;32m    292\u001b[0m key \u001b[38;5;241m=\u001b[39m check_array_indexer(\u001b[38;5;28mself\u001b[39m, key)\n\u001b[0;32m--> 293\u001b[0m result \u001b[38;5;241m=\u001b[39m \u001b[38;5;28;43mself\u001b[39;49m\u001b[38;5;241;43m.\u001b[39;49m\u001b[43m_ndarray\u001b[49m\u001b[43m[\u001b[49m\u001b[43mkey\u001b[49m\u001b[43m]\u001b[49m\n\u001b[1;32m    294\u001b[0m \u001b[38;5;28;01mif\u001b[39;00m lib\u001b[38;5;241m.\u001b[39mis_scalar(result):\n\u001b[1;32m    295\u001b[0m     \u001b[38;5;28;01mreturn\u001b[39;00m \u001b[38;5;28mself\u001b[39m\u001b[38;5;241m.\u001b[39m_box_func(result)\n",
      "\u001b[0;31mIndexError\u001b[0m: too many indices for array: array is 1-dimensional, but 2 were indexed"
     ]
    }
   ],
   "source": [
    "# select all rows by : and column 1\n",
    "# by selecting 1:2 representing features\n",
    "X = dataset[:, 1:2].astype(int)\n",
    "# print X\n",
    "print(X)"
   ]
  }
 ],
 "metadata": {
  "kernelspec": {
   "display_name": "Python 3",
   "language": "python",
   "name": "python3"
  },
  "language_info": {
   "codemirror_mode": {
    "name": "ipython",
    "version": 3
   },
   "file_extension": ".py",
   "mimetype": "text/x-python",
   "name": "python",
   "nbconvert_exporter": "python",
   "pygments_lexer": "ipython3",
   "version": "3.11.8"
  }
 },
 "nbformat": 4,
 "nbformat_minor": 2
}
